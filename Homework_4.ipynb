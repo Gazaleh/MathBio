{
  "nbformat": 4,
  "nbformat_minor": 0,
  "metadata": {
    "colab": {
      "provenance": [],
      "include_colab_link": true
    },
    "kernelspec": {
      "name": "python3",
      "display_name": "Python 3"
    },
    "language_info": {
      "name": "python"
    }
  },
  "cells": [
    {
      "cell_type": "markdown",
      "metadata": {
        "id": "view-in-github",
        "colab_type": "text"
      },
      "source": [
        "<a href=\"https://colab.research.google.com/github/Gazaleh/MathBio/blob/main/Homework_4.ipynb\" target=\"_parent\"><img src=\"https://colab.research.google.com/assets/colab-badge.svg\" alt=\"Open In Colab\"/></a>"
      ]
    },
    {
      "cell_type": "markdown",
      "source": [
        "**Instructions**:\n",
        "* Due at the start of class **Friday March 22nd** (12:50pm), with a zero-penalty extension to **Tuesday March 26th** 5pm.\n",
        "* Submit assignments on Canvas, email (park.y@ufl.edu), or in person. You may take pictures of written work and submit electronically. Be sure to submit Colab links (if any) electronically. Do not modify the Colab notebook after submission.\n",
        "* If using Colab, create a shared link using the option \"**for anyone with the link**\" and switch permission from **Viewer** to **Editor**, so that it says \"Anyone on the internet with the link can edit\".\n",
        "  * I will only request permission once. Once the notebook has been shared, the version history must show that no edits were made after the deadline."
      ],
      "metadata": {
        "id": "Adl8LhMMEE0f"
      }
    },
    {
      "cell_type": "markdown",
      "source": [
        "# For all solutions:\n",
        "* All plots should include axis labels.\n",
        "* Briefly mention collaborators and sources (e.g., \"I worked with John Doe and used Stackoverflow\")\n",
        "* You may use and modify all code provided in class.\n",
        "* You may use any formula related to the steady-state distribution discussed in class (hint: some formulas are much simpler to program than others).\n",
        "* You may use all available methods in numpy, scipy, and matplotlib. **I encourage you to use Google**."
      ],
      "metadata": {
        "id": "uhfVamKTD-zK"
      }
    },
    {
      "cell_type": "markdown",
      "source": [
        "# Problem 1A"
      ],
      "metadata": {
        "id": "rM_8h1VgCvi5"
      }
    },
    {
      "cell_type": "markdown",
      "source": [
        "Write code to compute the following:\n",
        "\n",
        "1. The steady-state distribution of the birth-death process\n",
        "2. Mean first passage times of the birth-death process, where the maximum population $N$ is an absorbing state.\n",
        "\n",
        "Assumptions:\n",
        "* The birth rate at zero population should be nonzero (you may pick $b_0=1$ for simplicity, but any $b_0>0$ will do).\n",
        "* You may use the code provided in class [here](https://colab.research.google.com/drive/16UcBdieipGyXvYUsz_anGv2F0_V1q7f6#scrollTo=8nG47nHrQ-oj), but modify the code as needed so that $b_0>0$ and $d_N$ is appropriately chosen.\n",
        "* Take the maximum number of states to be $N=20$ (it may help to check your matrix for a small number like $N=5$ before increasing its size).\n",
        "\n",
        "A complete solution consists of the following:\n",
        "* A brief one- or two-sentence explanation of how $b_0>0$ could be biologically realistic.\n",
        "* The code showing how you constructed your transition probability matrix.\n",
        "* A plot of the steady-state distribution (states on the x-axis and probability on the y-axis).\n",
        "* A plot of the mean first passage times (states on the x-axis and times on the y-axis).\n",
        "* A brief summary for each plot explaining what is shown as if you were explaining the figure to a math or physics major who hasn't taken the class before."
      ],
      "metadata": {
        "id": "r523Jp-4eHx0"
      }
    },
    {
      "cell_type": "markdown",
      "source": [
        "Hint:\n",
        "* For $N=5$ I calculated the following mean first passage times:\n",
        "`[69.16666667, 68.16666667, 57.16666667, 41.16666667, 21.83333333]`"
      ],
      "metadata": {
        "id": "XTlNb1RPOJ8_"
      }
    },
    {
      "cell_type": "markdown",
      "source": [
        "# Problem 1B"
      ],
      "metadata": {
        "id": "FO-GMrfRLsJm"
      }
    },
    {
      "cell_type": "markdown",
      "source": [
        "Modify the death rate so that $d_i = \\frac{i}{10N}$ for $i\\neq 0,N$ while keeping all other birth and death rates the same. Calculate the mean first passage time to reach the maximum population.\n",
        "\n",
        "A complete solution consists of the following:\n",
        "* A plot of the new mean first passage times plotted on top of the previous mean first passage times.\n",
        "* A few sentences providing a possible biological reason for the difference between the two plots."
      ],
      "metadata": {
        "id": "wN5MFDjyMJ1Z"
      }
    },
    {
      "cell_type": "markdown",
      "source": [
        "Hint:\n",
        "* With the modified death rate, the mean first passage time to go from $N-1$ to $N$ for $N=10$ is approximately `2.87`."
      ],
      "metadata": {
        "id": "m6aHOLgca0Pn"
      }
    },
    {
      "cell_type": "markdown",
      "source": [
        "# Problem 1C"
      ],
      "metadata": {
        "id": "qc0HVzaGGkAL"
      }
    },
    {
      "cell_type": "markdown",
      "source": [
        "Write code to run simulations of the birth-death process such that it is possible to save its states over time. Use the same assumptions and parameters as in Problem 1A.\n",
        "\n",
        "A complete solutions consists of the following:\n",
        "* A plot of 5 different simulations over time. [In the code shown in class](https://colab.research.google.com/drive/16UcBdieipGyXvYUsz_anGv2F0_V1q7f6#scrollTo=C3HIJKhATzsZ), only the mean first passage time is calculated. Modify the code as needed to save the state at each time step for multiple seeds.\n",
        "* A separate plot of the estimate of the steady-state distribution. Obtain an estimate of the steady-state distribution using as many simulations as needed to match the steady-state distribution obtained above. To obtain an estimate of the steady-state distribution from simulations, generate a histogram of all the saved states (remember to use `density=True` to normalize the histogram).\n",
        "\n"
      ],
      "metadata": {
        "id": "5KCKTdTCe9EW"
      }
    },
    {
      "cell_type": "markdown",
      "source": [
        "Hint:\n",
        "* For $N=10$ and $X_0 = 7$, I obtained the following solutions for seeds 0 through 4 (your solution should include a plot like this of 5 solutions generated using $N=20$ and an $X_0$ of your choice):\n",
        "\n",
        "<img src=\"https://i.imgur.com/ctmnv0W.png\">"
      ],
      "metadata": {
        "id": "CxUC5cmDPhTS"
      }
    },
    {
      "cell_type": "markdown",
      "source": [
        "# Problem 2"
      ],
      "metadata": {
        "id": "hwTtFlG7FNOE"
      }
    },
    {
      "cell_type": "markdown",
      "source": [
        "Write code to compute the following:\n",
        "\n",
        "1. The steady-state distribution of the cell division process.\n",
        "2. Reproduce panel C in the figure below from the Nature paper. Some code is provided in the next code cell.\n",
        "\n",
        "<img src=\"https://i.imgur.com/DpYPxta.png\">\n",
        "\n",
        "Assumptions:\n",
        "* Take the maximum number of states to be $N\\leq 500$ (it may help to keep your matrix relatively small like $N=10$).\n",
        "\n",
        "A complete solution consists of the following:\n",
        "* The code showing how you constructed your transition probability matrix (remember there are two matrices that together make up the transition probability matrix).\n",
        "* A plot of the steady-state distribution (states on the x-axis and probability on the y-axis).\n",
        "* A brief summary of the plot as if you were explaining the figure to a math or physics major who hasn't taken the class before."
      ],
      "metadata": {
        "id": "gAXxEppNblnE"
      }
    },
    {
      "cell_type": "markdown",
      "source": [
        "Hints:\n",
        "* For $N=7$ I obtained the following matrix for the cell division step:\n",
        "```\n",
        "array([[1.   , 0.5  , 0.25 , 0.125],\n",
        "       [0.   , 0.5  , 0.5  , 0.375],\n",
        "       [0.   , 0.   , 0.25 , 0.375],\n",
        "       [0.   , 0.   , 0.   , 0.125]])\n",
        "```\n",
        "(Note that because we technically require an infinite number of states, we won't quite have a unit eigenvalue for smaller $N$, and the corresponding eigenvector will be meaningless. However, for larger $N$, you will obtain an accurate ).\n",
        "* The operation \"$n$ choose $k$\" is implemented in scipy as `sp.special.comb`. More information [here](https://docs.scipy.org/doc/scipy/reference/generated/scipy.special.comb.html)\n",
        "* Matrix multiplication for two arrays `A` and `B` of shape `(n,m)` and `(m,k)` for `n,m,k` natural numbers can be done with numpy arrays using the `@` symbol. For example, `A@B` calculates the matrix multiplication of `A` and `B` (`A*B` will perform an element-wise multiplication). Equivalently, you may use `np.dot(A,B)` to perform matrix multiplication.\n",
        "* Matrix powers are taken using `np.linalg.matrix_power(A,n)` where `A` is a square matrix and `n` is the power. DO NOT USE `A**n` to take matrix powers -- an exponent of a matrix is again an elementwise operation in Python.\n",
        "* The reproduction of Panel C looks like the following:\n",
        "\n",
        "<img src=\"https://i.imgur.com/L6gywpl.png\">"
      ],
      "metadata": {
        "id": "oXi7GDzIcWCz"
      }
    },
    {
      "cell_type": "code",
      "source": [
        "import numpy as np\n",
        "import matplotlib.pyplot as plt\n",
        "np.random.seed(0)"
      ],
      "metadata": {
        "id": "WBtQIoAtkxPE"
      },
      "execution_count": null,
      "outputs": []
    },
    {
      "cell_type": "code",
      "source": [
        "# @title Plotting Code { display-mode: \"form\" }\n",
        "def plot_data(data1,data2,data3):\n",
        "  \"\"\"You may leave this plotting code unchanged\"\"\"\n",
        "  minv = np.amin([np.amin(data1),np.amin(data2),np.amin(data3)])\n",
        "  maxv = np.amax([np.amax(data1),np.amax(data2),np.amax(data3)])\n",
        "\n",
        "  fig,axs = plt.subplots(1,3,figsize=(12,4))\n",
        "  im1 = axs[0].imshow(data1,vmin=minv,vmax=maxv)\n",
        "  im2 = axs[1].imshow(data2,vmin=minv,vmax=maxv)\n",
        "  im3 = axs[2].imshow(data3,vmin=minv,vmax=maxv)\n",
        "\n",
        "  fig.subplots_adjust(right=0.8)\n",
        "  cbar_ax = fig.add_axes([0.85, 0.15, 0.05, 0.7])\n",
        "  fig.colorbar(im3, cax=cbar_ax)\n",
        "\n",
        "  for i in range(3):\n",
        "    axs[i].set_xlabel('Time Step')\n",
        "    axs[i].set_ylabel('State')\n",
        "\n",
        "  return fig"
      ],
      "metadata": {
        "id": "c0SGOeMrmVh0"
      },
      "execution_count": null,
      "outputs": []
    },
    {
      "cell_type": "code",
      "source": [
        "# Replace the data matrices data1, data2, data3 with your data.\n",
        "# the rows are the number of states you've used\n",
        "# the columns are the time steps\n",
        "# the values in a given column correspond to the probability of states for the given time step\n",
        "# the values in a given row correspond to the probability of being in that state over time steps.\n",
        "\n",
        "# 10 rows and 14 columns just for illustration.\n",
        "# Your matrices might look different.\n",
        "data1 = np.random.rand(10,14)-1\n",
        "data2 = np.random.rand(10,14)\n",
        "data3 = np.random.rand(10,14)\n",
        "\n",
        "# the plotting code will take care of the plotting part.\n",
        "fig = plot_data(data1,data2,data3)"
      ],
      "metadata": {
        "id": "GzDeKIboi3eU",
        "colab": {
          "base_uri": "https://localhost:8080/",
          "height": 317
        },
        "outputId": "0c6743f9-1868-42e3-b1bf-729b1b4f9457"
      },
      "execution_count": null,
      "outputs": [
        {
          "output_type": "display_data",
          "data": {
            "text/plain": [
              "<Figure size 1200x400 with 4 Axes>"
            ],
            "image/png": "[encoded data removed]"
          },
          "metadata": {}
        }
      ]
    },
    {
      "cell_type": "code",
      "source": [],
      "metadata": {
        "id": "X4GyXe9Fk34Q"
      },
      "execution_count": null,
      "outputs": []
    }
  ]
}