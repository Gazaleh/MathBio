{
  "nbformat": 4,
  "nbformat_minor": 0,
  "metadata": {
    "colab": {
      "provenance": [],
      "include_colab_link": true
    },
    "kernelspec": {
      "name": "python3",
      "display_name": "Python 3"
    },
    "language_info": {
      "name": "python"
    }
  },
  "cells": [
    {
      "cell_type": "markdown",
      "metadata": {
        "id": "view-in-github",
        "colab_type": "text"
      },
      "source": [
        "<a href=\"https://colab.research.google.com/github/Gazaleh/MathBio/blob/main/Homework_3.ipynb\" target=\"_parent\"><img src=\"https://colab.research.google.com/assets/colab-badge.svg\" alt=\"Open In Colab\"/></a>"
      ]
    },
    {
      "cell_type": "markdown",
      "source": [
        "**Instructions (PLEASE READ CAREFULLY)**:\n",
        "* Due at the start of class Friday March 1st (12:50pm), with a zero-penalty extension to Monday March 4th at the start of class 12:50pm.\n",
        "  * I will not accept assignments even a few minutes after the latest deadline, so be sure to sort out potential technical issues prior to submission.\n",
        "* Submit assignments on Canvas, email (park.y@ufl.edu), or in person. You may take pictures of written work and submit electronically. Be sure to submit Colab links (if any) electronically. Do not modify the Colab notebook after submission.\n",
        "* If using Colab, create a shared link using the option \"**for anyone with the link**\" and switch permission from **Viewer** to **Editor**, so that it says \"Anyone on the internet with the link can edit\".\n",
        "  * If you fail to do this, I will only request permission once. Once the notebook has been shared, the version history must show that no edits were made after the deadline."
      ],
      "metadata": {
        "id": "q8NnmtMF7b-n"
      }
    },
    {
      "cell_type": "markdown",
      "source": [
        "# Problem 0"
      ],
      "metadata": {
        "id": "ZszsaxvSUy2Z"
      }
    },
    {
      "cell_type": "markdown",
      "source": [
        "Implement the sampling algorithm for the discrete probability distribution, $p_0 = 1/20$, $p_1 = 1/4$, $p_2 = 1/5$. You may use the code shown in class [here](https://colab.research.google.com/drive/1Rk3LphHLYctkDA4wfmM-DHRX5_dj7Mhh?usp=sharing). As part of the solution, test that your algorithm is working correctly by showing a histogram of your points compared to the true distribution."
      ],
      "metadata": {
        "id": "CYzglHhZU0Af"
      }
    },
    {
      "cell_type": "markdown",
      "source": [
        "# Problem 1"
      ],
      "metadata": {
        "id": "zqZGLTPIzne3"
      }
    },
    {
      "cell_type": "markdown",
      "source": [
        "(A) In the algorithm we implemented in class for some continuous probability density function $\\pi_X$, we assumed that the cumulative distribution function was strictly monotonic, i.e., $\\Phi_{j-1} < \\Phi_j$, for points $x_{i}$. Modify the algorithm for the case in which this assumption is not valid. In particular, assume that the interval $[x_\\text{min},x_\\text{max}]$ contains one subinterval in which the probability density $\\pi_X$ vanishes.\n",
        "\n",
        "(B) Implement your algorithm and apply it to the probability density\n",
        "$$\\pi_X(x) \\propto [\\sin(x)]_+ := \\max\\{\\sin(x),0\\}$$"
      ],
      "metadata": {
        "id": "_Vx18iQqzpcp"
      }
    },
    {
      "cell_type": "markdown",
      "source": [
        "# Problem 2"
      ],
      "metadata": {
        "id": "8XHvDjF3doT4"
      }
    },
    {
      "cell_type": "markdown",
      "source": [
        "A Markov chain $X_0, X_1, \\ldots$ on states $0, 1, 2$ has the transition probability matrix\n",
        "$$P = \\left[\\begin{matrix}\n",
        "0.1 & 0.9 & 0.1 \\\\\n",
        "0.2 & 0.1 & 0.8\\\\\n",
        "0.7 & 0 & 0.1\n",
        "\\end{matrix}\\right],$$\n",
        "and initial distribution $p_0 = \\text{Pr}\\{X_0=0\\} = 0.3$, $p_1 = \\text{Pr}\\{X_0 = 1\\} = 0.4$, and $p_2 = \\text{Pr}\\{X_0=2\\}=0.3$. Determine $\\text{Pr}\\{X_0 = 0, X_1 = 1, X_2 = 2\\}$. Assume the matrix corresponds to the ordering of the states $0, 1, 2$, so that $p_{ij}$ is the transition probability from state $j$ to state $i$.\n",
        "\n",
        "As part of your solution, sketch the corresponding graph with arrows labeled with weights and briefly explain (with no more than a sentence or two) how your solution is consistent with the graph."
      ],
      "metadata": {
        "id": "yr6-9zcgWTWt"
      }
    },
    {
      "cell_type": "markdown",
      "source": [
        "# Problem 3"
      ],
      "metadata": {
        "id": "oVT5NSHgywSl"
      }
    },
    {
      "cell_type": "markdown",
      "source": [
        "A Markov chain $X_0, X_1, \\ldots$ has the transition probability matrix\n",
        "$$P = \\left[\\begin{matrix}\n",
        "0.7 & 0 & 0.5 \\\\\n",
        "0.2 & 0.6 & 0\\\\\n",
        "0.1 & 0.4 & 0.5\n",
        "\\end{matrix}\\right],$$\n",
        "Determine the conditional probabilities $\\text{Pr}\\{X_2=1, X_3 = 1 | X_1 = 0\\}$ and $\\text{Pr}\\{X_1=1,X_2 = 1| X_0 = 0\\}$. (No need to sketch the corresponding graph or explain your solution for this one, however, sketching the graph and tracing the corresponding path(s) may help). Hint: If events $A$ and $B$ are independent given $C$, then $P(A|B,C) = P(A|C)$. Use this fact to show that $P(AB|C) = P(A|C)P(B|C)$ (use the definition of conditional probability)."
      ],
      "metadata": {
        "id": "ZLI5M4drxo4b"
      }
    }
  ]
}