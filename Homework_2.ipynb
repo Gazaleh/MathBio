{
  "nbformat": 4,
  "nbformat_minor": 0,
  "metadata": {
    "colab": {
      "provenance": [],
      "toc_visible": true,
      "include_colab_link": true
    },
    "kernelspec": {
      "name": "python3",
      "display_name": "Python 3"
    },
    "language_info": {
      "name": "python"
    }
  },
  "cells": [
    {
      "cell_type": "markdown",
      "metadata": {
        "id": "view-in-github",
        "colab_type": "text"
      },
      "source": [
        "<a href=\"https://colab.research.google.com/github/Gazaleh/MathBio/blob/main/Homework_2.ipynb\" target=\"_parent\"><img src=\"https://colab.research.google.com/assets/colab-badge.svg\" alt=\"Open In Colab\"/></a>"
      ]
    },
    {
      "cell_type": "markdown",
      "source": [
        "**Instructions (PLEASE READ CAREFULLY)**:\n",
        "* Due at the start of class Friday February 9th (12:50pm). You may submit the assignment later on Sunday February 11th at 5pm without penalty.\n",
        "  * I will not accept assignments even a few minutes after the latest deadline, so be sure to sort out potential technical issues prior to submission.\n",
        "* Submit assignments on Canvas, email (park.y@ufl.edu), or in person. You may take pictures of written work and submit electronically. Be sure to submit Colab links (if any) electronically. Do not modify the Colab notebook after submission.\n",
        "* If using Colab, create a shared link using the option \"**for anyone with the link**\" and switch permission from **Viewer** to **Editor**, so that it says \"Anyone on the internet with the link can edit\".\n",
        "  * If you fail to do this, I will only request permission once. Once the notebook has been shared, the version history must show that no edits were made after the deadline."
      ],
      "metadata": {
        "id": "KqwD12VM13iC"
      }
    },
    {
      "cell_type": "code",
      "source": [
        "#@title Imports and Definitions\n",
        "import matplotlib.pyplot as plt\n",
        "import numpy as np\n",
        "import scipy as sp\n",
        "\n",
        "def f(x,R0=10,b=0.5):\n",
        "  \"\"\"right-hand side\"\"\"\n",
        "  return R0*x/(1+x)**b"
      ],
      "metadata": {
        "cellView": "form",
        "id": "xnJOVDhe0fY8"
      },
      "execution_count": null,
      "outputs": []
    },
    {
      "cell_type": "markdown",
      "source": [
        "# Problem 0."
      ],
      "metadata": {
        "id": "GDIjkql11XYf"
      }
    },
    {
      "cell_type": "markdown",
      "source": [
        "From January 22nd 1978 to February 4th 1978, a flu epidemic spread in a boarding school. The data for infected boys in the two-week epidemic are given in the list below."
      ],
      "metadata": {
        "id": "tlJyWBctJPjv"
      }
    },
    {
      "cell_type": "code",
      "source": [
        "# based on information from the British Communicable Disease Surveillance Centre\n",
        "fluData = [3,7,25,72,222,282,256,233,189,123,70,25,11,4]"
      ],
      "metadata": {
        "id": "jzKfKbiwJYid"
      },
      "execution_count": null,
      "outputs": []
    },
    {
      "cell_type": "markdown",
      "source": [
        "We are given that the total population of the boarding school was constant at $N=763$. Do your best to fit the SIR model by hand, then interpret the results. (You are welcome to use parameter fitting routines if you are familiar with them, but you will need to decide on an appropriate loss function).\n",
        "\n",
        "As part of your answer, include a time plot of the SIR model of all variables overlayed on the `fluData` variable above. Make sure all axes and lines/points\n",
        "are labeled."
      ],
      "metadata": {
        "id": "QjdDWQuJJ1ZD"
      }
    },
    {
      "cell_type": "markdown",
      "source": [
        "# Problem 1."
      ],
      "metadata": {
        "id": "0_wOrsHV0XKi"
      }
    },
    {
      "cell_type": "markdown",
      "source": [
        "Recall the equation $dw/dt = 1-w - \\exp(-R_0 w)$ and let $R_0w$ be small throughout the course of the epidemic."
      ],
      "metadata": {
        "id": "_Xs3uJ9NU8Fw"
      }
    },
    {
      "cell_type": "markdown",
      "source": [
        "A. Show that the above equation may be approximated by\n",
        "\n",
        "$$\\frac{dw}{dt} = (R_0 - 1)w \\left(1 - \\frac{w}{w_1}\\right),$$\n",
        "\n",
        "where $w_1 = 2(R_0 - 1)/R_0^2$.\n",
        "\n",
        "B. Deduce Kermack and McKendrick's second threshold theorem, that if $(R_0-1)/R_0$ is small, the size of the epidemic is given approximately by $w_1 = 2(R_0-1)/R_0^2$\n",
        "\n",
        "C. Show that the incidence of death (the rate at which deaths occur) in a small epidemic should follow a $\\text{sech}^2$ curve."
      ],
      "metadata": {
        "id": "qeUXXzG4WLRS"
      }
    },
    {
      "cell_type": "markdown",
      "source": [
        "# Problem 2."
      ],
      "metadata": {
        "id": "UfbDpkEt1v_g"
      }
    },
    {
      "cell_type": "markdown",
      "source": [
        "Consider an epidemic SIR outbreak (i.e., an outbreak that starts in the giant cluster of the corresponding percolation process) on a configuration model network with exponential degree distribution $p_k = (1-a)a^k$ with $a<1$. You can assume that the network is large."
      ],
      "metadata": {
        "id": "uDhNKOLK4svF"
      }
    },
    {
      "cell_type": "markdown",
      "source": [
        "A. Using methods related to the uniform random removal of nodes, write down an expression for the probability $u$ that satisfies the equation,\n",
        "$$u = 1 - \\phi+\\phi g_1(u),$$\n",
        "in terms of $\\phi$ and $a$, where\n",
        "\n",
        "$$\\begin{align*}\n",
        "g_0(z) &= \\sum_{k=0}^\\infty p_k z^k,\\\\\n",
        "g_1(z) &= \\sum_{k=0}^\\infty q_k z^k,\\\\\n",
        "q_k &= \\frac{(k+1)p_{k+1}}{\\langle k\\rangle},\n",
        "\\end{align*}$$\n",
        "and $⟨k⟩$ is the average degree in the network. *Hints: $g_0(z) = (1-a)/(1-az)$, and $u=1$ is a solution.*\n",
        "\n",
        "B. Hence find an expression for the probability that a node is infected by the disease if it has degree $k$.\n",
        "\n",
        "C. Evaluate this probability for the case $a=0.4$ and $\\phi =0.9$, for $k=0,1$, and $10$."
      ],
      "metadata": {
        "id": "-w0buHEeWWy2"
      }
    },
    {
      "cell_type": "markdown",
      "source": [
        "# Problem 3."
      ],
      "metadata": {
        "id": "UE2Pt4lG6Iv4"
      }
    },
    {
      "cell_type": "markdown",
      "source": [
        "Consider the SIR model on a configuration model network where all nodes have degree four (also known as a random 4-regular graph)."
      ],
      "metadata": {
        "id": "dz0jcrhx6Kfp"
      }
    },
    {
      "cell_type": "markdown",
      "source": [
        "A. What is the critical value $\\phi_c$ of the transmission probability at the epidemic threshold?\n",
        "\n",
        "B. When the transmission probability is $\\phi = 1/2$, show that if an epidemic happens, the fraction $S$ of nodes infected is\n",
        "\n",
        "$$S = \\frac{3\\sqrt{5}-5}{2}$$"
      ],
      "metadata": {
        "id": "BOnv114OW0B0"
      }
    },
    {
      "cell_type": "markdown",
      "source": [
        "# Problem 4 (OPTIONAL)"
      ],
      "metadata": {
        "id": "MmK3FE3I6dLe"
      }
    },
    {
      "cell_type": "markdown",
      "source": [
        "Create a computer simulation of the spread of an SIR-type disease over a network. Your program should perform the following steps:\n",
        "\n",
        "A. Generate a Poisson random graph of the type $G(n,m)$ with $n=10000$ nodes and $m=25000$ edges, and select one node at random to be single initial carrier of the disease.\n",
        "\n",
        "B. On each time step, every currently infected node spreads the disease to each of its currently susceptible neighbors with independent probability $\\phi=0.4$, then recovers and remains in the recovered state indefinitely thereafter. (This particular variant of SIR, in which nodes remain infective for exactly one time step, is called the Reed-Frost model)"
      ],
      "metadata": {
        "id": "f6kTolh_Bsf-"
      }
    }
  ]
}